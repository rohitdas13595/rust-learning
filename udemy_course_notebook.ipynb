{
 "cells": [
  {
   "attachments": {},
   "cell_type": "markdown",
   "metadata": {},
   "source": [
    "## Udemy Notebook"
   ]
  },
  {
   "attachments": {},
   "cell_type": "markdown",
   "metadata": {},
   "source": [
    "data types\n",
    "- Boolean\n",
    "- Integer \n",
    "-  Double/Float\n",
    "- Character\n",
    "- Strings\n"
   ]
  },
  {
   "attachments": {},
   "cell_type": "markdown",
   "metadata": {},
   "source": [
    "Variables\n",
    "- assigning data to a temporary memory Location\n",
    "- default variables are immutable\n"
   ]
  },
  {
   "cell_type": "markdown",
   "metadata": {},
   "source": []
  },
  {
   "cell_type": "markdown",
   "metadata": {},
   "source": []
  },
  {
   "cell_type": "markdown",
   "metadata": {},
   "source": []
  },
  {
   "cell_type": "code",
   "execution_count": null,
   "metadata": {
    "vscode": {
     "languageId": "rust"
    }
   },
   "outputs": [],
   "source": [
    "let two = 2;\n",
    "let hello = \"hello\";\n",
    "let j ='j';\n",
    "let half = 0.4;\n",
    "let mut name =  \"Rohit Kumar Das\";\n",
    "let quit = false;\n",
    "let my_half =  half;"
   ]
  },
  {
   "cell_type": "code",
   "execution_count": null,
   "metadata": {
    "vscode": {
     "languageId": "rust"
    }
   },
   "outputs": [],
   "source": [
    "println!(\"{}\", half);\n",
    "//this works becase primitive types do not claim ownership\n",
    "\n"
   ]
  },
  {
   "cell_type": "code",
   "execution_count": null,
   "metadata": {
    "vscode": {
     "languageId": "rust"
    }
   },
   "outputs": [],
   "source": [
    "// Functions"
   ]
  },
  {
   "cell_type": "code",
   "execution_count": null,
   "metadata": {
    "vscode": {
     "languageId": "rust"
    }
   },
   "outputs": [],
   "source": [
    "fn add( a: i32 , b: i32)-> i32{\n",
    "    a+b\n",
    "}\n",
    "println!(\"{}\", add(5,6));"
   ]
  },
  {
   "cell_type": "code",
   "execution_count": null,
   "metadata": {
    "vscode": {
     "languageId": "rust"
    }
   },
   "outputs": [],
   "source": [
    "let x=  add(0,5);\n",
    "let y= add(4,5);\n",
    "let z =  x + add(3,5);\n",
    "println!(\"{},{},{}\", x,y,z);"
   ]
  },
  {
   "cell_type": "code",
   "execution_count": null,
   "metadata": {
    "vscode": {
     "languageId": "rust"
    }
   },
   "outputs": [],
   "source": [
    "//functions execute functionality"
   ]
  },
  {
   "attachments": {},
   "cell_type": "markdown",
   "metadata": {},
   "source": [
    "println! macros"
   ]
  },
  {
   "attachments": {},
   "cell_type": "markdown",
   "metadata": {},
   "source": [
    "println prints information to the terminal\n",
    "useful for debugging"
   ]
  },
  {
   "cell_type": "code",
   "execution_count": null,
   "metadata": {
    "vscode": {
     "languageId": "rust"
    }
   },
   "outputs": [],
   "source": [
    "let life  = 42;\n",
    "println!(\"hello\");\n",
    "println!(\"{:?}\", life);\n",
    "println!(\"{:?} {:?}\", life , life);"
   ]
  },
  {
   "attachments": {},
   "cell_type": "markdown",
   "metadata": {},
   "source": [
    "macros generate additional code for you, so you need not write them yourself repeatedly\n",
    "macros use ! (exclamation mark) before calling\n"
   ]
  },
  {
   "attachments": {},
   "cell_type": "markdown",
   "metadata": {},
   "source": [
    "Control Flows"
   ]
  },
  {
   "cell_type": "code",
   "execution_count": null,
   "metadata": {
    "vscode": {
     "languageId": "rust"
    }
   },
   "outputs": [],
   "source": [
    "let a=1;\n",
    "let b= 2;\n",
    "let c= 3;\n",
    "// no break or branch of the flow\n",
    "\n",
    "let x= 99;\n",
    "if(x>=99){\n",
    "    println!(\"Big number\");\n",
    "}else{\n",
    "    println!(\"Small Number\");\n",
    "}\n"
   ]
  },
  {
   "cell_type": "code",
   "execution_count": null,
   "metadata": {
    "vscode": {
     "languageId": "rust"
    }
   },
   "outputs": [],
   "source": [
    "//else if\n",
    "\n",
    "let x = 201;\n",
    "\n",
    "if(x>99){\n",
    "    println!(\"Huge Number\");\n",
    "}else if(x>200){\n",
    "    println!(\"Big Number\");\n",
    "}else{\n",
    "    println!(\"Small Number\");\n",
    "}\n",
    "//breaks until truthy or at last else;\n"
   ]
  },
  {
   "cell_type": "code",
   "execution_count": null,
   "metadata": {
    "vscode": {
     "languageId": "rust"
    }
   },
   "outputs": [],
   "source": [
    "//Repetations\n",
    "\n",
    "let mut i = 0;\n",
    "loop{\n",
    "    if( i==5){\n",
    "        break;\n",
    "    }\n",
    "\n",
    "    println!(\"{:?}\",i);\n",
    "    i = i+1;\n",
    "}"
   ]
  },
  {
   "cell_type": "code",
   "execution_count": null,
   "metadata": {
    "vscode": {
     "languageId": "rust"
    }
   },
   "outputs": [],
   "source": [
    "//while loop\n",
    "let mut i = 0;\n",
    "while i != 5{\n",
    "    println!(\"{:?}\", i);\n",
    "    i= i+1;\n",
    "\n",
    "}"
   ]
  },
  {
   "cell_type": "code",
   "execution_count": null,
   "metadata": {
    "vscode": {
     "languageId": "rust"
    }
   },
   "outputs": [],
   "source": [
    "// Code Commets"
   ]
  },
  {
   "cell_type": "code",
   "execution_count": null,
   "metadata": {
    "vscode": {
     "languageId": "rust"
    }
   },
   "outputs": [],
   "source": [
    "// forward slashes adds the comments\n",
    "// commets add readablity to  the code for the users \n",
    "// try to make the code more reable if possible\n",
    "\n",
    "let my_favorite_color = \"red\";"
   ]
  },
  {
   "cell_type": "code",
   "execution_count": null,
   "metadata": {
    "vscode": {
     "languageId": "rust"
    }
   },
   "outputs": [],
   "source": [
    "fn first_name(){\n",
    "    println!(\"Rohit\");\n",
    "}\n",
    "\n",
    "fn last_name(){\n",
    "    println!(\"Das\");\n",
    "}\n",
    "\n",
    "fn main(){\n",
    "    first_name();\n",
    "    last_name();\n",
    "}\n",
    "\n",
    "main();\n",
    "\n"
   ]
  },
  {
   "cell_type": "code",
   "execution_count": null,
   "metadata": {
    "vscode": {
     "languageId": "rust"
    }
   },
   "outputs": [],
   "source": [
    "// Arithematic"
   ]
  },
  {
   "cell_type": "code",
   "execution_count": null,
   "metadata": {
    "vscode": {
     "languageId": "rust"
    }
   },
   "outputs": [],
   "source": [
    "let sum =  2+3;\n",
    "let sub =  5-4;\n",
    "let mult =  2*3;\n",
    "let div  =  4.0/3.0;\n",
    "println!(\"{},{},{},{}\", sum,sub, mult, div);"
   ]
  },
  {
   "cell_type": "code",
   "execution_count": null,
   "metadata": {
    "vscode": {
     "languageId": "rust"
    }
   },
   "outputs": [],
   "source": [
    "fn  sum(a: i32, b: i32)->i32{\n",
    "    a+b\n",
    "}\n",
    "\n",
    "fn display_res( x: i32){\n",
    "    println!(\"{}\", x);\n",
    "}\n",
    "\n",
    "fn main(){\n",
    "    let res = sum(5,4);\n",
    "    display_res(res);\n",
    "}\n",
    "\n",
    "main();"
   ]
  },
  {
   "cell_type": "code",
   "execution_count": null,
   "metadata": {
    "vscode": {
     "languageId": "rust"
    }
   },
   "outputs": [],
   "source": [
    "//else if flow control"
   ]
  },
  {
   "cell_type": "code",
   "execution_count": null,
   "metadata": {
    "vscode": {
     "languageId": "rust"
    }
   },
   "outputs": [],
   "source": [
    "fn display_test( value: bool){\n",
    "    if(value == true){\n",
    "        println!(\"Hello!\");\n",
    "\n",
    "    }else{\n",
    "        println!(\"Good Bye!\")\n",
    "    }\n",
    "}\n",
    "\n",
    "fn main(){\n",
    "    let x = true;\n",
    "    display_test(x);\n",
    "}\n",
    "\n",
    "main();\n"
   ]
  },
  {
   "cell_type": "code",
   "execution_count": null,
   "metadata": {
    "vscode": {
     "languageId": "rust"
    }
   },
   "outputs": [],
   "source": [
    "fn main(){\n",
    "    let n =7;\n",
    "    if(n> 5){\n",
    "        println!(\"Greater than 5.\");\n",
    "    } else if( n<5){\n",
    "        println!(\"Less than 5.\");\n",
    "    }else{\n",
    "        println!(\"Equal to 5.\");\n",
    "    }\n",
    "}\n",
    "\n",
    "main();"
   ]
  },
  {
   "cell_type": "code",
   "execution_count": null,
   "metadata": {
    "vscode": {
     "languageId": "rust"
    }
   },
   "outputs": [],
   "source": [
    "// match expresions\n",
    "//match must be exhaustive\n",
    "\n",
    "let someboolb = true;\n",
    "\n",
    "match someboolb{\n",
    "    true => println!(\"It's true\"),\n",
    "    false => println!(\"It's false\"),\n",
    "}\n"
   ]
  },
  {
   "cell_type": "code",
   "execution_count": null,
   "metadata": {
    "vscode": {
     "languageId": "rust"
    }
   },
   "outputs": [],
   "source": [
    "let x= 34;\n",
    "match x{\n",
    "    1=> println!(\"One \"),\n",
    "    2=> println!(\"Two\"),\n",
    "    3=> println!(\"Three\"),\n",
    "    _=> println!(\"More than three\"), // _ is added for all others\n",
    "}"
   ]
  },
  {
   "cell_type": "code",
   "execution_count": null,
   "metadata": {
    "vscode": {
     "languageId": "rust"
    }
   },
   "outputs": [],
   "source": [
    "//match ensures the safety by handling all the possiblity"
   ]
  },
  {
   "cell_type": "code",
   "execution_count": null,
   "metadata": {
    "vscode": {
     "languageId": "rust"
    }
   },
   "outputs": [],
   "source": [
    "//Descision making with match\n",
    "let x = \"Jason\";\n",
    "\n",
    "match x {\n",
    "    \"bob\" => println!(\"Not my NAME\"),\n",
    "    \"rohit\"=> println!(\"My NAME is Rohit\"),\n",
    "    \"Alice \" => println!(\"Hello Alice\"),\n",
    "    _=> println!(\"Hello {}!\", x),\n",
    "}\n"
   ]
  },
  {
   "cell_type": "code",
   "execution_count": null,
   "metadata": {
    "vscode": {
     "languageId": "rust"
    }
   },
   "outputs": [],
   "source": [
    "let mut x = 0;\n",
    "\n",
    "loop{\n",
    "    if(x==10){\n",
    "        break;\n",
    "    }\n",
    "    println!(\"{:?}\", x);\n",
    "    x= x+1;\n",
    "}"
   ]
  },
  {
   "cell_type": "code",
   "execution_count": null,
   "metadata": {
    "vscode": {
     "languageId": "rust"
    }
   },
   "outputs": [],
   "source": [
    "let mut i =10;\n",
    "\n",
    "loop{\n",
    "    if(i== 0){\n",
    "        break;\n",
    "    }\n",
    "    println!(\"{}\",i);\n",
    "    i= i-1;\n",
    "}"
   ]
  },
  {
   "cell_type": "code",
   "execution_count": null,
   "metadata": {
    "vscode": {
     "languageId": "rust"
    }
   },
   "outputs": [],
   "source": [
    "let mut i = 1;\n",
    "\n",
    "while(i < 3){\n",
    "    println!(\"{}\",i);\n",
    "    i = i+1;\n",
    "}\n"
   ]
  },
  {
   "cell_type": "code",
   "execution_count": null,
   "metadata": {
    "vscode": {
     "languageId": "rust"
    }
   },
   "outputs": [],
   "source": [
    "let mut x = 5;\n",
    "\n",
    "while(x>0){\n",
    "    println!(\"{:?}\",x);\n",
    "    x=x-1;\n",
    "}"
   ]
  },
  {
   "attachments": {},
   "cell_type": "markdown",
   "metadata": {},
   "source": [
    "Enums"
   ]
  },
  {
   "cell_type": "code",
   "execution_count": null,
   "metadata": {
    "vscode": {
     "languageId": "rust"
    }
   },
   "outputs": [],
   "source": [
    "enum Directions{\n",
    "    Up,\n",
    "    Down,\n",
    "    Left,\n",
    "    Right\n",
    "}\n",
    "\n",
    "fn which_way_to_go( go: Directions)-> String{\n",
    "    match go {\n",
    "        Directions::Up => \"up\".to_string(),\n",
    "        Directions::Down => \"down\".to_string(),\n",
    "        Directions::Left => \"left\".to_string(),\n",
    "        Directions::Right => \"right\".to_string(),\n",
    "    }\n",
    "}\n",
    "\n",
    "println!(\"The way to go is {}\", which_way_to_go(Directions::Up));\n"
   ]
  },
  {
   "cell_type": "code",
   "execution_count": null,
   "metadata": {
    "vscode": {
     "languageId": "rust"
    }
   },
   "outputs": [],
   "source": [
    "enum Direction{\n",
    "    Left,\n",
    "    Right\n",
    "}\n",
    "\n",
    "let go = Direction::Left;\n",
    "\n",
    "match go{\n",
    "    Direction::Left => println!(\"Left is the direction\"),\n",
    "    Direction::Right => println!(\"Right is the Direction\")\n",
    "}\n",
    "\n"
   ]
  },
  {
   "cell_type": "code",
   "execution_count": null,
   "metadata": {
    "vscode": {
     "languageId": "rust"
    }
   },
   "outputs": [],
   "source": [
    "enum Colors{\n",
    "   Red,\n",
    "   Green,\n",
    "   Blue,\n",
    "   Magenta,\n",
    "   Crimson,\n",
    "   Yellow\n",
    "}\n",
    "\n",
    "fn select_color( color: Colors)->String{\n",
    "    match color{\n",
    "        Colors::Red => \"red\".to_string(),\n",
    "    Colors::Green => \"green\".to_string(),\n",
    "    Colors::Blue => \"blue\".to_string(),\n",
    "    Colors::Magenta => \"magenta\".to_string(),\n",
    "    Colors::Crimson => \"crimson\".to_string(),\n",
    "    Colors::Yellow => \"yellow\".to_string(),\n",
    "\n",
    "    }\n",
    "}\n",
    "\n",
    "println!(\"Selected color is {:?}\", select_color(Colors::Red));"
   ]
  },
  {
   "attachments": {},
   "cell_type": "markdown",
   "metadata": {},
   "source": [
    "Structures\n",
    "- struct key is used"
   ]
  },
  {
   "cell_type": "code",
   "execution_count": null,
   "metadata": {
    "vscode": {
     "languageId": "rust"
    }
   },
   "outputs": [],
   "source": [
    "struct ShippingBox{\n",
    "    depth: i32,\n",
    "    width: i32,\n",
    "    height: i32,\n",
    "}\n",
    "\n",
    "let mut my_box= ShippingBox{\n",
    "    depth: 25,\n",
    "    height: 40,\n",
    "    width: 23,\n",
    "    \n",
    "};\n",
    "\n",
    "let tall = my_box.height;\n",
    "\n",
    "println!(\"The height of my box is {:?} units tall.\", my_box.height);\n",
    "\n",
    "let my_other_box: ShippingBox = my_box;\n",
    "\n"
   ]
  },
  {
   "cell_type": "code",
   "execution_count": null,
   "metadata": {
    "vscode": {
     "languageId": "rust"
    }
   },
   "outputs": [],
   "source": [
    "//Grocerey Store\n",
    "\n",
    "struct GroceryItems{\n",
    "    stock: i32,\n",
    "    price: f64,\n",
    "}\n",
    "\n",
    "let cereal = GroceryItems{\n",
    "    stock: 20,\n",
    "    price: 10.34,\n",
    "};\n",
    "\n",
    "println!(\"Stock fro the cereal is {} units.\", cereal.stock);\n",
    "println!(\"Price of cereal is ₹{}/kg.\", cereal.price );"
   ]
  },
  {
   "cell_type": "code",
   "execution_count": null,
   "metadata": {
    "vscode": {
     "languageId": "rust"
    }
   },
   "outputs": [],
   "source": [
    "enum Flavours{\n",
    "    Sweet,\n",
    "    Sour,\n",
    "    Lime,\n",
    "    Coke,\n",
    "}\n",
    "\n",
    "struct Drinks{\n",
    "    flavour: Flavours,\n",
    "    quantity: f64,\n",
    "}\n",
    "\n",
    "fn print_flavour( drink: Drinks){\n",
    "    match drink.flavour{\n",
    "        Sweet => println!(\"Flavour is Sweet\"),\n",
    "        Sour => println!(\"Flavour is sour\"),\n",
    "        Lime => println!(\"Tastes like a lime\"),\n",
    "        Coke => println!(\"Are you high?\")\n",
    "    }\n",
    "}\n",
    "\n",
    "\n",
    "let sprite = Drinks{\n",
    "    flavour: Flavours::Lime,\n",
    "    quantity : 1.2\n",
    "};\n",
    "\n",
    "let hot_chocolate = Drinks{\n",
    "    flavour: Flavours::Sweet,\n",
    "    quantity : 6.0\n",
    "};\n",
    "\n",
    "\n",
    "print_flavour(sprite);\n",
    "print_flavour(hot_chocolate);\n"
   ]
  },
  {
   "attachments": {},
   "cell_type": "markdown",
   "metadata": {},
   "source": [
    "Tuples"
   ]
  },
  {
   "cell_type": "code",
   "execution_count": null,
   "metadata": {
    "vscode": {
     "languageId": "rust"
    }
   },
   "outputs": [],
   "source": [
    "// A type of record\n"
   ]
  },
  {
   "cell_type": "code",
   "execution_count": null,
   "metadata": {
    "vscode": {
     "languageId": "rust"
    }
   },
   "outputs": [],
   "source": [
    "enum Access{\n",
    "    Full,\n",
    "}\n",
    "\n",
    "fn one_two_three()->(i32,i32,i32){\n",
    "    (1,2,3)\n",
    "}\n",
    "\n",
    "let numbers = one_two_three();\n",
    "let (x,y,z) =  one_two_three();\n",
    "\n",
    "println!(\"{:?} , {:?}, {:?}\", x==numbers.0, y==numbers.1, z==numbers.2);\n",
    "\n",
    "let (employee, access)= (\"Jake\", Access::Full);\n",
    "\n"
   ]
  },
  {
   "attachments": {},
   "cell_type": "markdown",
   "metadata": {},
   "source": [
    "- use struct for more than 3 fields.  "
   ]
  },
  {
   "cell_type": "code",
   "execution_count": null,
   "metadata": {
    "vscode": {
     "languageId": "rust"
    }
   },
   "outputs": [],
   "source": [
    "let coord = (2,4);\n",
    "let(x,y) = (2,4);\n",
    "\n",
    "println!(\"{:?} , {:?}\", coord.0 == x, coord.1 == y);\n"
   ]
  },
  {
   "cell_type": "code",
   "execution_count": null,
   "metadata": {
    "vscode": {
     "languageId": "rust"
    }
   },
   "outputs": [],
   "source": [
    "fn coordinates()->(i32,i32){\n",
    "    (3,6)\n",
    "\n",
    "}\n",
    "\n",
    "let c = coordinates();\n",
    "\n",
    "if(c.1 > 5 ){\n",
    "    println!(\"Greater than 5\");\n",
    "}else if( c.1 < 5){\n",
    "    println!(\"Less than 5\");\n",
    "}else{\n",
    "    println!(\"Equal to five\");\n",
    "}\n",
    "\n",
    "let (x,y)= coordinates();\n",
    "if(y > 5 ){\n",
    "    println!(\"Greater than 5\");\n",
    "}else if( y < 5){\n",
    "    println!(\"Less than 5\");\n",
    "}else{\n",
    "    println!(\"Equal to five\");\n",
    "}"
   ]
  },
  {
   "attachments": {},
   "cell_type": "markdown",
   "metadata": {},
   "source": [
    "Inter mediate Concepts"
   ]
  },
  {
   "attachments": {},
   "cell_type": "markdown",
   "metadata": {},
   "source": [
    "Expressions"
   ]
  },
  {
   "cell_type": "code",
   "execution_count": null,
   "metadata": {
    "vscode": {
     "languageId": "rust"
    }
   },
   "outputs": [],
   "source": [
    "let num = 5;\n",
    "let m = num>5;\n",
    "println!(\"{}\", m);"
   ]
  },
  {
   "cell_type": "code",
   "execution_count": null,
   "metadata": {
    "vscode": {
     "languageId": "rust"
    }
   },
   "outputs": [],
   "source": [
    "enum Access{\n",
    "    Admin,\n",
    "    Manager,\n",
    "    User,\n",
    "    Guest\n",
    "}\n",
    "\n",
    "let access_level = Access:: Guest;\n",
    "\n",
    "let can_access = match access_level{\n",
    "    Access::Admin => true,\n",
    "    _=> false,\n",
    "};\n",
    "\n",
    "println!(\"{:?}\", can_access);"
   ]
  },
  {
   "cell_type": "code",
   "execution_count": null,
   "metadata": {
    "vscode": {
     "languageId": "rust"
    }
   },
   "outputs": [],
   "source": [
    "let n = 100;\n",
    "\n",
    "\n",
    "let var1 = if(n>100){ \"big\"}else{\"Small\"};\n",
    "\n",
    "println!(\"{}\", var1);"
   ]
  },
  {
   "attachments": {},
   "cell_type": "markdown",
   "metadata": {},
   "source": [
    "Intermediate Memory"
   ]
  },
  {
   "attachments": {},
   "cell_type": "markdown",
   "metadata": {},
   "source": [
    "Address and Offsets"
   ]
  },
  {
   "attachments": {},
   "cell_type": "markdown",
   "metadata": {},
   "source": [
    "Ownership\n",
    "- Programs must track their memory.\n",
    "- If they fail to do so a \"Leak\" occures.\n",
    "- Rust uses Ownership model to manage the memory.\n",
    "- The Owner is the one responsible for the cleanup of the memory.\n",
    "- Memory can either be moved or borrowed in rust"
   ]
  },
  {
   "cell_type": "code",
   "execution_count": null,
   "metadata": {
    "vscode": {
     "languageId": "rust"
    }
   },
   "outputs": [],
   "source": [
    "#[derive(Debug)]\n",
    "struct Book{\n",
    "    pages: i32,\n",
    "    rating: i32,\n",
    "}\n",
    "\n",
    "fn display_page_count(book: &Book){\n",
    "    println!(\"pages ={:?}\", book.pages);\n",
    "}\n",
    "\n",
    "fn display_rating(book: &Book){\n",
    "    println!(\"rating ={:?}\", book.rating);\n",
    "}\n",
    "\n",
    "let book = Book{\n",
    "    pages: 5,\n",
    "    rating: 9,\n",
    "};\n",
    "\n",
    "display_page_count(&book);\n",
    "display_rating(&book);\n",
    "println!(\"{:?}\",book);"
   ]
  },
  {
   "cell_type": "code",
   "execution_count": null,
   "metadata": {
    "vscode": {
     "languageId": "rust"
    }
   },
   "outputs": [],
   "source": [
    "struct Grocery{\n",
    "    id: i32,\n",
    "    quantity: i32,\n",
    "}\n",
    "\n",
    "fn print_quantity(g: &Grocery){\n",
    "    println!(\"quantity: {}\", g.quantity);\n",
    "}\n",
    "fn print_id( g: &Grocery){\n",
    "    println!(\"id: {}\", g.id);\n",
    "}\n",
    "\n",
    "let g= Grocery{\n",
    "    id:12,\n",
    "    quantity: 12\n",
    "};\n",
    "\n",
    "print_quantity(&g);\n",
    "print_id(&g);\n"
   ]
  },
  {
   "attachments": {},
   "cell_type": "markdown",
   "metadata": {},
   "source": [
    "impl - Implementing functionality to a struct"
   ]
  },
  {
   "cell_type": "code",
   "execution_count": null,
   "metadata": {
    "vscode": {
     "languageId": "rust"
    }
   },
   "outputs": [],
   "source": [
    "\n",
    "#[derive(Debug)]\n",
    "enum Color{\n",
    "    Brown,\n",
    "    Black,\n",
    "    White\n",
    "}\n",
    "\n",
    "#[derive(Debug)]\n",
    "struct ShippingBox{\n",
    "    dimention : (i32,i32,i32),\n",
    "    weight: f64,\n",
    "    color: Color\n",
    "\n",
    "}\n",
    "\n",
    "impl ShippingBox{\n",
    "    fn print_box(&self){\n",
    "        println!(\"{:?}\", self);\n",
    "    }\n",
    "\n",
    "    fn create_box(dimention:(i32,i32,i32), weight: f64, color: Color)->Self{\n",
    "        ShippingBox{\n",
    "            dimention: dimention,\n",
    "            weight: weight,\n",
    "            color: color\n",
    "        }\n",
    "    }\n",
    "}\n",
    "\n",
    "let my_box = ShippingBox::create_box((1,1,1),4.2,Color::Brown);\n",
    "my_box.print_box();"
   ]
  },
  {
   "cell_type": "code",
   "execution_count": null,
   "metadata": {
    "vscode": {
     "languageId": "rust"
    }
   },
   "outputs": [],
   "source": [
    "// refactored code\n",
    "\n",
    "enum Color{\n",
    "    Brown,\n",
    "    Black,\n",
    "    White\n",
    "}\n",
    "\n",
    "impl Color{\n",
    "    fn print(&self){\n",
    "        match self{\n",
    "            Color::Brown => println!(\"color: Brown\"),\n",
    "            Color::Black => println!(\"color: Black\"),\n",
    "            Color::White => println!(\"color: White\")\n",
    "        }\n",
    "    }\n",
    "}\n",
    "\n",
    "struct Dimentions{\n",
    "    height: f64,\n",
    "    width: f64,\n",
    "    length: f64\n",
    "}\n",
    "\n",
    "impl Dimentions{\n",
    "    fn print(&self){\n",
    "        println!(\"height: {}\",self.height);\n",
    "        println!(\"width: {}\",self.width);\n",
    "        println!(\"length: {}\",self.length);\n",
    "    }\n",
    "\n",
    "    fn new(h:f64, w: f64, l: f64)->Self{\n",
    "        Dimentions{\n",
    "            height: h,\n",
    "            width: w,\n",
    "            length: l\n",
    "        }\n",
    "    }\n",
    "}\n",
    "\n",
    "struct ShippingBox{\n",
    "    dimention: Dimentions,\n",
    "    color: Color,\n",
    "    weight: f64,\n",
    "}\n",
    "\n",
    "impl ShippingBox{\n",
    "    fn print(&self){\n",
    "        self.dimention.print();\n",
    "        self.color.print();\n",
    "        println!(\"weight: {}\",self.weight);\n",
    "    }\n",
    "    fn new( d: Dimentions, c: Color, weight: f64)->Self{\n",
    "        ShippingBox{\n",
    "            dimention: d,\n",
    "            color: c,\n",
    "            weight: weight\n",
    "        }\n",
    "    }\n",
    "}\n",
    "\n",
    "let my_box = ShippingBox::new(\n",
    "    Dimentions::new(1.2,1.0,1.4),\n",
    "    Color::Black,\n",
    "    6.4\n",
    ");\n",
    "\n",
    "my_box.print();"
   ]
  },
  {
   "attachments": {},
   "cell_type": "markdown",
   "metadata": {},
   "source": [
    "Vectors\n",
    "Multiple pieces of data\n",
    "used for lists of information\n"
   ]
  },
  {
   "cell_type": "code",
   "execution_count": null,
   "metadata": {
    "vscode": {
     "languageId": "rust"
    }
   },
   "outputs": [],
   "source": [
    "let num =  vec![1,2,3];\n",
    "\n",
    "let mut my_num = Vec::new();\n",
    "\n",
    "my_num.push(1);\n",
    "my_num.push(2);\n",
    "my_num.len();\n",
    "// my_num.pop();\n",
    "for val in my_num{\n",
    "    println!(\"{}\",val);\n",
    "}"
   ]
  },
  {
   "cell_type": "code",
   "execution_count": null,
   "metadata": {
    "vscode": {
     "languageId": "rust"
    }
   },
   "outputs": [],
   "source": [
    "let num = vec![ 10,20,30,40];\n",
    "\n",
    "for v in &num{\n",
    "    // if( *v == 30){\n",
    "    //     println!{\"thirty\"}\n",
    "    // }else{\n",
    "    //     println!(\"{}\", v)\n",
    "    // }\n",
    "\n",
    "    match v {\n",
    "        30=> println!(\"thirty\"),\n",
    "        _=> println!(\"{}\", v ),\n",
    "    }\n",
    "\n",
    "   \n",
    "}\n",
    "\n",
    "println!(\"Length of the vector is {}\", num.len())"
   ]
  },
  {
   "attachments": {},
   "cell_type": "markdown",
   "metadata": {},
   "source": [
    "String\n",
    "- &str string slice\n",
    "- String\n",
    "- to_owned();\n",
    "- String::from();\n",
    "- to_string();\n"
   ]
  },
  {
   "attachments": {},
   "cell_type": "markdown",
   "metadata": {},
   "source": [
    "- Strings are automatically borrowed\n",
    "- Use .to_owned() or String:from() to create an owned copy of a string slice\n",
    "- Use Owned string when storing in an struct"
   ]
  },
  {
   "cell_type": "code",
   "execution_count": null,
   "metadata": {
    "vscode": {
     "languageId": "rust"
    }
   },
   "outputs": [],
   "source": [
    "struct LineItems{\n",
    "    name: String,\n",
    "    count: i32,\n",
    "}\n",
    "\n",
    "let receipt = vec![\n",
    "    LineItems{\n",
    "        name: \"cereal\".to_owned(),\n",
    "        count: 2,\n",
    "    },\n",
    "    LineItems{\n",
    "        name: \"biscuit\".to_owned(),\n",
    "        count: 2,\n",
    "    },\n",
    "];\n",
    "\n",
    "fn print_name(name:&str){\n",
    "    println!(\"name:{}\", name)\n",
    "}\n",
    "\n",
    "for item in receipt{\n",
    "    print_name(&item.name);\n",
    "    println!( \"name-{} , count-{}\", item.name, item.count);\n",
    "}\n",
    "\n"
   ]
  },
  {
   "cell_type": "code",
   "execution_count": null,
   "metadata": {
    "vscode": {
     "languageId": "rust"
    }
   },
   "outputs": [],
   "source": [
    "//strings and string slices\n",
    "\n",
    "struct People{\n",
    "    name: String,\n",
    "    age: i32,\n",
    "    favourite_color: String\n",
    "}\n",
    "\n",
    "fn print_name( name: &str){\n",
    "    println!(\"name: {}\", name);\n",
    "}\n",
    "\n",
    "fn print_favourite_color( color: &str){\n",
    "    println!(\"favourite_color: {}\", color);\n",
    "}\n",
    "\n",
    "let persons= vec![\n",
    "    People{\n",
    "        name: \"Rohit Kumar Das\".to_owned(),\n",
    "        favourite_color: \"blue\".to_owned(),\n",
    "        age: 23,\n",
    "    },\n",
    "    People{\n",
    "        name: \"Sumit Kuamr Das\".to_owned(),\n",
    "        favourite_color: \"Crimson\".to_owned(),\n",
    "        age: 25,\n",
    "    },\n",
    "    People{\n",
    "        name: \"Shreyan Kashyap\".to_owned(),\n",
    "        favourite_color: \"magenta\".to_owned(),\n",
    "        age: 23\n",
    "    },\n",
    "];\n",
    "\n",
    "for p in persons{\n",
    "    print_name(&p.name);\n",
    "    print_favourite_color(&p.favourite_color);\n",
    "    println!(\"age: {}\", p.age);\n",
    "}"
   ]
  },
  {
   "attachments": {},
   "cell_type": "markdown",
   "metadata": {},
   "source": [
    "Drive macro"
   ]
  },
  {
   "cell_type": "code",
   "execution_count": null,
   "metadata": {
    "vscode": {
     "languageId": "rust"
    }
   },
   "outputs": [],
   "source": [
    "#[derive(Debug, Copy, Clone)]\n",
    "struct S {\n",
    "    a:i32\n",
    "}\n",
    "#[derive(Debug, Copy, Clone)]\n",
    "struct S1{\n",
    "    b : S\n",
    "}\n",
    "\n",
    "let temp =  S{\n",
    "    a :12,\n",
    "};\n",
    "\n",
    "\n",
    "fn print( x : S1){\n",
    "    println!(\"{:?}\", x);\n",
    "}\n",
    "\n",
    "\n",
    "let c= S1{\n",
    "    b: temp, \n",
    "};\n",
    "\n",
    "print(c);\n",
    "print(c);"
   ]
  },
  {
   "attachments": {},
   "cell_type": "markdown",
   "metadata": {},
   "source": [
    "Advanced Enums"
   ]
  },
  {
   "cell_type": "code",
   "execution_count": null,
   "metadata": {
    "vscode": {
     "languageId": "rust"
    }
   },
   "outputs": [],
   "source": [
    "#[derive(Debug)]\n",
    "enum Ip{\n",
    "    ip(i32,i32,i32,i32),\n",
    "}\n",
    "\n",
    "let address = Ip::ip(192,166,123,1);\n",
    "println!(\"{:?}\", address);\n"
   ]
  },
  {
   "attachments": {},
   "cell_type": "markdown",
   "metadata": {},
   "source": [
    "Advanced Match"
   ]
  },
  {
   "cell_type": "code",
   "execution_count": null,
   "metadata": {
    "vscode": {
     "languageId": "rust"
    }
   },
   "outputs": [],
   "source": [
    "let n = 2;\n",
    "match n{\n",
    "    3 => println!(\"three\"),\n",
    "    other => println!(\"{}\", other),\n",
    "    _=> println!(\"{}\", n),\n",
    "}"
   ]
  },
  {
   "cell_type": "code",
   "execution_count": null,
   "metadata": {
    "vscode": {
     "languageId": "rust"
    }
   },
   "outputs": [],
   "source": [
    "enum TicketType{\n",
    "    BackStage(f64, String), \n",
    "    Vip(f64, String), \n",
    "    Standard(f64),\n",
    "}\n",
    "let tickets = vec![\n",
    "    TicketType::BackStage(9.99, \"Rohit Kumar Das\".to_owned()),\n",
    "    TicketType::Vip(5.99, \"Sourav\".to_owned()),\n",
    "    TicketType::Standard(3.99),\n",
    "];\n",
    "\n",
    "for ticket in tickets{\n",
    "    match ticket{\n",
    "        TicketType::BackStage(price, name) => println!(\"price:{} name: {}\", price, name ),\n",
    "        TicketType::Vip (price, name) => println!(\"price:{} name: {}\", price, name ),\n",
    "        TicketType::Standard(price)=> println!(\"price: {:?}\", price),\n",
    "    }\n",
    "}\n",
    "\n",
    "\n",
    "\n"
   ]
  },
  {
   "attachments": {},
   "cell_type": "markdown",
   "metadata": {},
   "source": [
    "Option Type\n",
    "- A type that may be one of the two things\n",
    "    - Some data of the specified type\n",
    "    - Nothing\n",
    "- Used is scenarios whhere data may not be required or is unavailable\n",
    "    - Unable to find somehing\n",
    "    - Ran out of items in the list\n",
    "    - Form field not filled out"
   ]
  },
  {
   "cell_type": "code",
   "execution_count": null,
   "metadata": {
    "vscode": {
     "languageId": "rust"
    }
   },
   "outputs": [],
   "source": [
    "// Definition\n",
    "\n",
    "// enum Option<T>{\n",
    "//     Some(T),\n",
    "//     None\n",
    "// }\n",
    "// \n"
   ]
  },
  {
   "cell_type": "code",
   "execution_count": null,
   "metadata": {
    "vscode": {
     "languageId": "rust"
    }
   },
   "outputs": [],
   "source": [
    "struct Student{\n",
    "    name: String,\n",
    "    locker: Option<i32>,\n",
    "}\n",
    "\n",
    "let s1 = Student{\n",
    "    name: \"Rohit\".to_owned(),\n",
    "    locker: None,\n",
    "};\n",
    "println!(\"name: {}\", s1.name);\n",
    "match s1.locker{\n",
    "    Some(num) => println!(\"locker: {}\", num),\n",
    "    None => (),\n",
    "}"
   ]
  },
  {
   "attachments": {},
   "cell_type": "markdown",
   "metadata": {},
   "source": [
    "Documentation"
   ]
  },
  {
   "attachments": {},
   "cell_type": "markdown",
   "metadata": {},
   "source": [
    "- Represented by /// 3 forward slashes\n",
    "- cargo doc --open to view the doc\n"
   ]
  },
  {
   "cell_type": "code",
   "execution_count": null,
   "metadata": {
    "vscode": {
     "languageId": "rust"
    }
   },
   "outputs": [],
   "source": [
    "let my_string = \"This is string\";\n",
    "\n",
    "println!(\"{}\", my_string.to_uppercase());\n",
    "println!(\"{}\", my_string.to_lowercase());\n",
    "\n",
    "\n"
   ]
  },
  {
   "attachments": {},
   "cell_type": "markdown",
   "metadata": {},
   "source": [
    "Result\n",
    " enum Result<T,E>{\n",
    "    Ok(T),\n",
    "    Err(E),\n",
    " }\n",
    "\n",
    " "
   ]
  },
  {
   "cell_type": "code",
   "execution_count": null,
   "metadata": {
    "vscode": {
     "languageId": "rust"
    }
   },
   "outputs": [],
   "source": [
    "struct SoundData{\n",
    "    data: String\n",
    "}\n",
    " impl SoundData{\n",
    "    fn new(s:String) ->Self{\n",
    "        SoundData{ data: s}\n",
    "    }\n",
    " }\n",
    "fn get_sound( name : &str) -> Result<SoundData, String>{\n",
    "    if(name == \"alert\"){\n",
    "        Ok(SoundData::new(\"alert\".to_owned()))\n",
    "    }else{\n",
    "        Err(\"Unable to find some data\".to_owned())\n",
    "    }\n",
    "}\n",
    "\n",
    "let sound_var  = get_sound(\"alert\");\n",
    "\n",
    "match sound_var{\n",
    "    Ok(_) => println!(\"sound data located\"),\n",
    "    Err(e) => println!(\"error: {}\", e),\n",
    "\n",
    "}"
   ]
  },
  {
   "cell_type": "code",
   "execution_count": null,
   "metadata": {
    "vscode": {
     "languageId": "rust"
    }
   },
   "outputs": [],
   "source": [
    " #[derive(Debug)]\n",
    " enum Menu{\n",
    "    Mainmenu,\n",
    "    Start,\n",
    "    Quit,\n",
    " }\n",
    "\n",
    " fn get_choice(input: &str)-> Result<Menu, String>{\n",
    "    match input{\n",
    "        \"mainmenu\" => Ok(Menu::Mainmenu),\n",
    "        \"start\" => Ok(Menu::Start),\n",
    "        \"quit\" => Ok(Menu::Quit),\n",
    "        _=> Err(\"is wrong option\".to_owned()),\n",
    "    }\n",
    " }\n",
    "\n",
    "fn print_choice( ch : &Menu){\n",
    "    println!(\"choice = {:?}\", ch);\n",
    "}\n",
    "\n",
    "fn pick_choice(input: &str) -> Result<(),String>{\n",
    "    let choice: Menu = get_choice(input)?;\n",
    "    print_choice(&choice);\n",
    "    Ok(())\n",
    "}\n",
    "\n",
    "let choice = pick_choice(\"start\");\n",
    "\n",
    "println!(\"choice value:{:?}\", choice);\n",
    "\n",
    "\n",
    "\n",
    "\n",
    "\n"
   ]
  },
  {
   "cell_type": "code",
   "execution_count": null,
   "metadata": {
    "vscode": {
     "languageId": "rust"
    }
   },
   "outputs": [],
   "source": [
    "struct Customer{\n",
    "    age: i32,\n",
    "}\n",
    "\n",
    "fn can_make_purchase(cus :&Customer)-> Result<(),String>{\n",
    "    if cus.age< 23 {\n",
    "        Err(\"Customer must be atleast of 23 years of age\".to_owned())\n",
    "    }else{\n",
    "        Ok(())\n",
    "    }\n",
    "}\n",
    "\n",
    "let rohit  = Customer{ age: 23};\n",
    "let purchase = can_make_purchase(&rohit);\n",
    "println!(\"{:?}\", purchase);"
   ]
  },
  {
   "cell_type": "code",
   "execution_count": null,
   "metadata": {
    "vscode": {
     "languageId": "rust"
    }
   },
   "outputs": [],
   "source": [
    "enum Position{\n",
    "    Maitainance,\n",
    "    Marketing,\n",
    "    Manager,\n",
    "    LineSuperviser,\n",
    "    KichenStaff,\n",
    "    AssemblyTech\n",
    "}\n",
    "\n",
    "enum Status{\n",
    "    Active,\n",
    "    Terminated\n",
    "}\n",
    "\n",
    "\n",
    "struct Employee{\n",
    "    position: Position,\n",
    "    status: Status\n",
    "}\n",
    "\n",
    "fn is_allowed(e : &Employee)->Result<(),String>{\n",
    "    match e.status{\n",
    "        Status::Terminated => return Err(\"Can't access, Terminated\".to_owned()),\n",
    "        Status::Active=>(),\n",
    "    }\n",
    "    match e.position{\n",
    "        Position::Maitainance => Ok(()),\n",
    "        Position::Marketing=> Ok(()),\n",
    "        Position::Manager => Ok(()),\n",
    "        _=> Err(\"Can't accesss, Position not Allowed\".to_owned())\n",
    "\n",
    "    }\n",
    "}\n",
    "\n",
    "fn print_access( e :&Employee)->Result<(), String>{\n",
    "    let attempt = is_allowed(e)?;\n",
    "    println!(\"Acess ok\");\n",
    "    Ok(())\n",
    "\n",
    "}\n",
    "\n",
    "let manager:Employee = Employee{\n",
    "    position: Position::Manager,\n",
    "    status: Status::Active,\n",
    "};\n",
    "\n",
    "match print_access(&manager){\n",
    "    Err(e) =>  println!(\"{:?}\", e),\n",
    "    _=> (),\n",
    "}\n",
    "\n",
    "\n"
   ]
  },
  {
   "attachments": {},
   "cell_type": "markdown",
   "metadata": {},
   "source": [
    "Hash Maps Data\n"
   ]
  },
  {
   "cell_type": "code",
   "execution_count": null,
   "metadata": {
    "vscode": {
     "languageId": "rust"
    }
   },
   "outputs": [],
   "source": [
    "use std::collections::HashMap;\n",
    "\n",
    "#[derive(Debug)]\n",
    "struct Content{\n",
    "    content:  String,\n",
    "}\n",
    "\n",
    "let mut lockers  = HashMap::new();\n",
    "lockers.insert( 1, Content{\n",
    "    content: \"Stuff\".to_owned(),\n",
    "});\n",
    "lockers.insert( 2, Content{\n",
    "    content: \"Shirts\".to_owned(),\n",
    "});\n",
    "lockers.insert( 3, Content{\n",
    "    content: \"Pant\".to_owned(),\n",
    "});\n",
    "\n",
    "for( num, content) in lockers.iter(){\n",
    "    println!(\"KEY: {}, content: {:?}\", num,content);\n",
    "}\n",
    "\n",
    "lockers.get(&1)"
   ]
  },
  {
   "cell_type": "code",
   "execution_count": null,
   "metadata": {
    "vscode": {
     "languageId": "rust"
    }
   },
   "outputs": [],
   "source": [
    "\n",
    "\n",
    "let mut furnitures = HashMap::new();\n",
    "furnitures.insert(\"chair\",5);\n",
    "furnitures.insert(\"bed\",3);\n",
    "furnitures.insert(\"table\", 2);\n",
    "furnitures.insert(\"couches\",0);\n",
    "\n",
    "let mut total = 0;\n",
    "\n",
    "for (key, val) in furnitures.iter(){\n",
    "    let stock_count  = if(val <= &0){\n",
    "        \"Out of stock\".to_owned()\n",
    "    }else{\n",
    "        format!(\"{:?}\", val)\n",
    "    };\n",
    "\n",
    "    println!(\"item: {} , stock:{}\", key, stock_count); \n",
    "    total = total+val;   \n",
    "}\n",
    "println!(\"total: {}\",total);"
   ]
  },
  {
   "cell_type": "code",
   "execution_count": 93,
   "metadata": {
    "vscode": {
     "languageId": "rust"
    }
   },
   "outputs": [],
   "source": [
    "use std::io;\n",
    "\n",
    "fn get_input()->io::Result<String>{\n",
    "    let mut buffer  =  String::new();\n",
    "    io::stdin().read_line(&mut buffer)?;\n",
    "    Ok(buffer.trim().to_owned())\n",
    "}\n",
    "\n",
    "let mut all_input = vec![];\n",
    "let mut times_input = 0;\n",
    "while times_input<2 {\n",
    "    match get_input(){\n",
    "        Ok(word) => {\n",
    "            all_input.push(word);\n",
    "            times_input += 1;\n",
    "        },\n",
    "        Err(e) => {\n",
    "            println!(\"error: {:?}\",e);\n",
    "        }\n",
    "    }\n",
    "}\n",
    "\n",
    "for input in all_input{\n",
    "    println!(\"Original: {:?}, Capitalised: {:?}\", input, input.to_uppercase());\n",
    "}"
   ]
  },
  {
   "cell_type": "markdown",
   "metadata": {},
   "source": []
  },
  {
   "cell_type": "code",
   "execution_count": null,
   "metadata": {
    "vscode": {
     "languageId": "rust"
    }
   },
   "outputs": [],
   "source": []
  }
 ],
 "metadata": {
  "kernelspec": {
   "display_name": "Rust",
   "language": "rust",
   "name": "rust"
  },
  "language_info": {
   "codemirror_mode": "rust",
   "file_extension": ".rs",
   "mimetype": "text/rust",
   "name": "Rust",
   "pygment_lexer": "rust",
   "version": ""
  },
  "orig_nbformat": 4
 },
 "nbformat": 4,
 "nbformat_minor": 2
}
